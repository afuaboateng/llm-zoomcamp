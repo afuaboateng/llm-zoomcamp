{
 "cells": [
  {
   "cell_type": "code",
   "execution_count": null,
   "id": "aab31f28-a9b6-4817-8efb-5fe4489fd0d4",
   "metadata": {},
   "outputs": [],
   "source": [
    "import openai"
   ]
  },
  {
   "cell_type": "code",
   "execution_count": 1,
   "id": "adec0dca-0339-4a18-b84e-cb6ceeed7ec7",
   "metadata": {},
   "outputs": [],
   "source": [
    "from openai import OpenAI"
   ]
  },
  {
   "cell_type": "code",
   "execution_count": 2,
   "id": "82840240-9b83-42b9-a323-11dd3f0d0ecf",
   "metadata": {},
   "outputs": [],
   "source": [
    "client = OpenAI()"
   ]
  },
  {
   "cell_type": "code",
   "execution_count": 17,
   "id": "6de43012-f798-4bc7-aed6-b76a92027f87",
   "metadata": {},
   "outputs": [],
   "source": [
    "import os"
   ]
  },
  {
   "cell_type": "code",
   "execution_count": 15,
   "id": "b8a08b59-f7e8-4d7b-995d-8677a9a0b008",
   "metadata": {},
   "outputs": [],
   "source": [
    "response = client.chat.completions.create(\n",
    "    model = 'gpt-4o',\n",
    "    messages = [{\"role\": \"user\", \"content\": \"is it too late to join the course?\"}]\n",
    ")"
   ]
  },
  {
   "cell_type": "code",
   "execution_count": 16,
   "id": "1f987a9d-0ef9-4483-a176-9fb6d92c4776",
   "metadata": {},
   "outputs": [
    {
     "data": {
      "text/plain": [
       "\"I would need more context to provide a specific answer. It depends on several factors such as:\\n\\n1. **Enrollment Deadlines:** Check if the course enrollment deadline has passed. Many courses have specific periods during which you can register.\\n\\n2. **Course Schedule:** See if you have already missed a significant portion of the classes or materials. Starting late might make it difficult to catch up on lectures, assignments, or exams.\\n\\n3. **Instructor's Policy:** Some instructors may allow late joins with certain conditions or exceptions. It's worth reaching out to the course instructor or administration for permission.\\n\\n4. **Course Type:** Online courses often offer more flexibility, including rolling admissions or on-demand content, which may allow you to join at any time.\\n\\n5. **Personal Schedule:** Consider whether you have enough time and resources to dedicate to the course to successfully complete it, given the remaining timeframe.\\n\\nContact the course provider or visit their website for specific guidance on joining late.\""
      ]
     },
     "execution_count": 16,
     "metadata": {},
     "output_type": "execute_result"
    }
   ],
   "source": [
    "response.choices[0].message.content"
   ]
  },
  {
   "cell_type": "code",
   "execution_count": null,
   "id": "5c13bc65-deb4-4496-9e73-63060c177002",
   "metadata": {},
   "outputs": [],
   "source": []
  }
 ],
 "metadata": {
  "kernelspec": {
   "display_name": "Python 3 (ipykernel)",
   "language": "python",
   "name": "python3"
  },
  "language_info": {
   "codemirror_mode": {
    "name": "ipython",
    "version": 3
   },
   "file_extension": ".py",
   "mimetype": "text/x-python",
   "name": "python",
   "nbconvert_exporter": "python",
   "pygments_lexer": "ipython3",
   "version": "3.12.1"
  }
 },
 "nbformat": 4,
 "nbformat_minor": 5
}
